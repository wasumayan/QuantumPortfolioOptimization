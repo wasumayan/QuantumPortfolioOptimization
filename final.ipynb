{
  "cells": [
    {
      "cell_type": "code",
      "execution_count": 102,
      "id": "c74942d7",
      "metadata": {
        "id": "c74942d7"
      },
      "outputs": [],
      "source": [
        "!pip install qiskit qiskit-aer numpy scipy matplotlib --quiet\n"
      ]
    },
    {
      "cell_type": "code",
      "source": [
        "# Set random seed for reproducibility\n",
        "np.random.seed(42)\n",
        "\n",
        "# Number of properties\n",
        "n_properties = 16\n",
        "\n",
        "# Generate random expected returns (premiums) for properties\n",
        "mu = np.random.uniform(0.05, 0.15, n_properties)\n",
        "\n",
        "# Generate random correlation matrix and ensure it's symmetric and positive semi-definite\n",
        "random_matrix = np.random.rand(n_properties, n_properties)\n",
        "correlation_matrix = (random_matrix + random_matrix.T) / 2\n",
        "np.fill_diagonal(correlation_matrix, 1)\n",
        "\n",
        "# Generate covariance matrix by scaling the correlation matrix\n",
        "sigma = correlation_matrix * np.outer(mu, mu)\n",
        "\n",
        "# Budget (30% of properties)\n",
        "budget = int(0.3 * n_properties)"
      ],
      "metadata": {
        "id": "wM0eGrHQ1Nn5"
      },
      "id": "wM0eGrHQ1Nn5",
      "execution_count": null,
      "outputs": []
    },
    {
      "cell_type": "markdown",
      "id": "8bf42e3b",
      "metadata": {
        "id": "8bf42e3b"
      },
      "source": [
        "# Hybrid HHL++ Quantum Solver\n"
      ]
    },
    {
      "cell_type": "code",
      "execution_count": null,
      "id": "998b41ff",
      "metadata": {
        "id": "998b41ff"
      },
      "outputs": [],
      "source": [
        "import numpy as np\n",
        "import matplotlib.pyplot as plt\n",
        "from math import log2, asin\n",
        "from scipy.linalg import expm\n",
        "\n",
        "# Qiskit core components\n",
        "from qiskit import QuantumCircuit, ClassicalRegister, QuantumRegister, transpile\n",
        "from qiskit_aer import Aer\n",
        "from qiskit.quantum_info import Statevector\n",
        "from qiskit.circuit.library import QFT, UnitaryGate\n"
      ]
    },
    {
      "cell_type": "markdown",
      "id": "ce1876ca",
      "metadata": {
        "id": "ce1876ca"
      },
      "source": [
        "## PortfolioQLSP: Structuring the Linear System for Finance\n",
        "\n",
        "This class defines the structure of our quantum linear system problem, specifically framed for portfolio optimization or risk modeling.\n",
        "\n",
        "In real-world finance, the matrix `A` often represents:\n",
        "- **Covariance or correlation** between assets or insurance risks\n",
        "- A **risk-weighted dependency matrix** (e.g., from property claims or credit data)\n",
        "\n",
        "The vector `b` represents:\n",
        "- A **target return** profile\n",
        "- A **constraint vector** derived from regulatory limits or capital allocations\n",
        "\n",
        "This class wraps these components (`A_matrix` and `b_vector`) so they can be easily passed into our quantum solver. It mimics how finance professionals frame systems of the form `A x = b`, where `x` gives the ideal portfolio weights or allocation decision.\n"
      ]
    },
    {
      "cell_type": "code",
      "execution_count": null,
      "id": "48a9a06c",
      "metadata": {
        "id": "48a9a06c"
      },
      "outputs": [],
      "source": [
        "import numpy as np\n",
        "from qiskit import QuantumCircuit\n",
        "\n",
        "class PortfolioQLSP:\n",
        "    \"\"\"\n",
        "    Quantum Linear System Problem customized for insurance portfolio optimization.\n",
        "    Stores Hermitian matrix A and vector b prepared as quantum inputs.\n",
        "    \"\"\"\n",
        "    def __init__(self, A_matrix, b_vector, state_preparation=None, hamiltonian_simulation=None):\n",
        "        self._A = np.array(A_matrix, dtype=complex)\n",
        "        self._b = np.array(b_vector, dtype=complex).flatten()\n",
        "\n",
        "        if not np.allclose(self._A, self._A.conj().T):\n",
        "            raise ValueError(\"Matrix A must be Hermitian\")\n",
        "\n",
        "        if np.log2(self._A.shape[0]) % 1 != 0:\n",
        "            raise ValueError(\"A must have 2^n dimensions\")\n",
        "\n",
        "        if self._b.shape[0] != self._A.shape[0]:\n",
        "            raise ValueError(\"b must match dimensions of A\")\n",
        "\n",
        "        self._b = self._b / np.linalg.norm(self._b)\n",
        "        self._state_preparation = state_preparation\n",
        "        self._hamiltonian_simulation = hamiltonian_simulation\n",
        "\n",
        "    @property\n",
        "    def A_matrix(self):\n",
        "        return self._A\n",
        "\n",
        "    @property\n",
        "    def b_vector(self):\n",
        "        return self._b\n",
        "\n",
        "    @property\n",
        "    def state_preparation(self):\n",
        "        return self._state_preparation\n",
        "\n",
        "    @property\n",
        "    def hamiltonian_simulation(self):\n",
        "        return self._hamiltonian_simulation\n"
      ]
    },
    {
      "cell_type": "markdown",
      "id": "c74da201",
      "metadata": {
        "id": "c74da201"
      },
      "source": [
        "## YalovetzkyPreprocessor Class\n",
        "\n",
        "## Preprocessing A: Eigenvalue Analysis\n",
        "\n",
        "To solve a linear system on a quantum computer, we must encode the matrix `A` as a unitary operator — specifically, we need to simulate `e^{iAt}`.\n",
        "\n",
        "This is only possible if:\n",
        "- `A` is **Hermitian** (symmetric and real in our case)\n",
        "- We know its **eigenvalues (λ_i)** to apply phase estimation and inversion\n",
        "\n",
        "This preprocessor:\n",
        "- Diagonalizes `A` → `A = U D U†` where `D` is a diagonal matrix of eigenvalues\n",
        "- Computes **γ = 1 / max(|λ_i|)**, a scaling factor to ensure the exponential doesn’t wrap around and lose phase information\n",
        "- Returns both the eigenvalues and the eigenvectors used for reconstructing `A`\n",
        "\n",
        "This step is **crucial** because quantum phase estimation will later use the eigenvalues to encode them into qubits. Without this preprocessing, our circuit would not simulate the linear system properly.\n"
      ]
    },
    {
      "cell_type": "code",
      "execution_count": null,
      "id": "5bbe74ec",
      "metadata": {
        "id": "5bbe74ec"
      },
      "outputs": [],
      "source": [
        "import numpy as np\n",
        "\n",
        "class YalovetzkyPreprocessor:\n",
        "    \"\"\"\n",
        "    Spectral scaling preprocessing for HHL++.\n",
        "    Computes a gamma such that A fits QPE requirements.\n",
        "    \"\"\"\n",
        "    def __init__(self, safety_factor=2.0):\n",
        "        self.gamma = None\n",
        "        self.eigenvalues = None\n",
        "        self.eigenvectors = None\n",
        "        self.safety_factor = safety_factor\n",
        "\n",
        "    def estimate(self, A: np.ndarray):\n",
        "        if not np.allclose(A, A.conj().T):\n",
        "            raise ValueError(\"Matrix A must be Hermitian\")\n",
        "\n",
        "        eigvals, eigvecs = np.linalg.eigh(A)\n",
        "        lam_max = np.max(np.abs(eigvals))\n",
        "\n",
        "        self.gamma = 1 / (self.safety_factor * lam_max)\n",
        "        self.eigenvalues = eigvals\n",
        "        self.eigenvectors = eigvecs\n",
        "\n",
        "        return eigvals, eigvecs, self.gamma\n"
      ]
    },
    {
      "cell_type": "markdown",
      "id": "125b08fc",
      "metadata": {
        "id": "125b08fc"
      },
      "source": [
        "## EnhancedHybridInversion: A Robust 1/λ Encoding Method\n",
        "\n",
        "In the original HHL algorithm, after phase estimation encodes eigenvalues into a register, a rotation is performed on an **ancilla qubit** controlled by `1 / λ_i`.\n",
        "\n",
        "This step is delicate because:\n",
        "- Small λ values cause **large 1/λ rotations**, introducing noise\n",
        "- Many implementations use **amplitude amplification**, which is costly and hardware-unfriendly\n",
        "\n",
        "Our enhanced hybrid method:\n",
        "- Uses **custom RY gates** to encode controlled rotations based on eigenvalue bins\n",
        "- Avoids fragile amplitude amplification\n",
        "- Is modular and hardware-aware — we can conditionally rotate based on bitstrings representing eigenvalues\n",
        "\n",
        "This design is better suited for near-term hardware (NISQ) and more robust in practice, especially for finance where eigenvalues often have large variation (i.e., ill-conditioned matrices).\n"
      ]
    },
    {
      "cell_type": "code",
      "execution_count": null,
      "id": "f2afbe76",
      "metadata": {
        "id": "f2afbe76"
      },
      "outputs": [],
      "source": [
        "import numpy as np\n",
        "from math import asin\n",
        "from qiskit.circuit.library import RYGate\n",
        "\n",
        "class EnhancedHybridInversion:\n",
        "    \"\"\"\n",
        "    Builds ancilla RY rotations conditioned on eigenvalue bitstrings.\n",
        "    \"\"\"\n",
        "    def __init__(self, normalization_constant=1.0):\n",
        "        self.C = normalization_constant\n",
        "        self.rotation_conditions = {}\n",
        "\n",
        "    def build_conditioned_rotations(self, eigenvalues, num_phase_bits, gamma):\n",
        "        self.rotation_conditions = {}\n",
        "        for idx, lam in enumerate(eigenvalues):\n",
        "            if lam == 0:\n",
        "                continue\n",
        "            lam_scaled = lam * gamma\n",
        "            if abs(lam_scaled) < 1e-8:\n",
        "                continue\n",
        "            angle_ratio = self.C / lam\n",
        "            angle_ratio = np.clip(angle_ratio, -1, 1)\n",
        "            theta = 2 * asin(angle_ratio)\n",
        "            bitstring = format(idx, f'0{num_phase_bits}b')\n",
        "            self.rotation_conditions[bitstring] = RYGate(theta)\n",
        "        return self.rotation_conditions\n"
      ]
    },
    {
      "cell_type": "markdown",
      "id": "33532ab3",
      "metadata": {
        "id": "33532ab3"
      },
      "source": [
        "## Fidelity Computation: Quantum-Classical Overlap\n",
        "\n",
        "Once the quantum circuit runs, it returns a histogram of measured outcomes — but we want to **quantify** how close this quantum solution is to the real, ideal solution.\n",
        "\n",
        "This function:\n",
        "- Computes the **classical solution x = A⁻¹ · b**\n",
        "- Post-selects on outcomes where **ancilla = 1**, meaning the inversion circuit succeeded\n",
        "- Reconstructs the resulting quantum state (in amplitude form)\n",
        "- Computes **fidelity**:\n",
        "\n"
      ]
    },
    {
      "cell_type": "code",
      "execution_count": null,
      "id": "c00ada50",
      "metadata": {
        "id": "c00ada50"
      },
      "outputs": [],
      "source": [
        "from qiskit.quantum_info import Statevector\n",
        "import numpy as np\n",
        "def get_fidelity_result(problem, counts):\n",
        "    \"\"\"\n",
        "    Compute fidelity between expected classical solution and measured quantum state\n",
        "    using only outcomes where ancilla == 1.\n",
        "    \"\"\"\n",
        "    A = problem.A_matrix\n",
        "    b = problem.b_vector\n",
        "\n",
        "    # Classical solution (up to normalization)\n",
        "    x = np.linalg.solve(A, b)\n",
        "    x = x / np.linalg.norm(x)\n",
        "\n",
        "    # Filter results where ancilla == 1 (bitstrings like \"1 0010\")\n",
        "    filtered_counts = {}\n",
        "    for bitstring, count in counts.items():\n",
        "        bitstring = bitstring.replace(\" \", \"\")  # Remove spaces if any\n",
        "        if bitstring.startswith(\"1\"):  # ancilla is the first bit\n",
        "            system_bits = bitstring[1:]  # drop the ancilla bit\n",
        "            filtered_counts[system_bits] = count\n",
        "\n",
        "    if not filtered_counts:\n",
        "        return 0.0\n",
        "\n",
        "    # Build normalized quantum state vector from filtered counts\n",
        "    dim = len(x)\n",
        "    measured_vector = np.zeros(dim, dtype=complex)\n",
        "\n",
        "    total = sum(filtered_counts.values())\n",
        "    for bitstring, count in filtered_counts.items():\n",
        "        index = int(bitstring, 2)\n",
        "        if index < dim:\n",
        "            measured_vector[index] = np.sqrt(count / total)\n",
        "\n",
        "    measured_vector = measured_vector / np.linalg.norm(measured_vector)\n",
        "\n",
        "    # Fidelity = squared inner product\n",
        "    fidelity = np.abs(np.dot(np.conj(x), measured_vector)) ** 2\n",
        "    return fidelity\n"
      ]
    },
    {
      "cell_type": "markdown",
      "id": "e1bc984d",
      "metadata": {
        "id": "e1bc984d"
      },
      "source": [
        "## HHL++ Engine Initialization: Wiring Up the Solver\n",
        "\n",
        "Here, we instantiate our enhanced quantum solver engine.\n",
        "\n",
        "It requires three components:\n",
        "1. **Preprocessing Function** → estimates eigenvalues and gamma\n",
        "2. **Inversion Circuit Class** → performs the hybrid ancilla-controlled RY rotations\n",
        "3. **Result Evaluator** → computes fidelity and other metrics after execution\n",
        "\n",
        "This engine builds the full quantum circuit dynamically and executes the necessary steps:\n",
        "- Prepare |b⟩\n",
        "- Phase estimation to extract λ\n",
        "- Apply 1/λ to ancilla\n",
        "- Uncompute phase register\n",
        "- Measure results\n",
        "\n",
        "This object-oriented design makes the algorithm **modular and testable**, allowing us to swap out components and test performance enhancements.\n"
      ]
    },
    {
      "cell_type": "code",
      "execution_count": null,
      "id": "b292f110",
      "metadata": {
        "id": "b292f110"
      },
      "outputs": [],
      "source": [
        "from qiskit import QuantumCircuit, ClassicalRegister, QuantumRegister, transpile\n",
        "from qiskit_aer import Aer\n",
        "from qiskit.quantum_info import Statevector\n",
        "from qiskit.circuit.library import UnitaryGate\n",
        "from qiskit.circuit.library import QFT\n",
        "\n",
        "import numpy as np\n",
        "from math import log2\n",
        "from scipy.linalg import expm\n",
        "\n",
        "class HHL:\n",
        "    \"\"\"\n",
        "    Core engine of the HHL++ algorithm.\n",
        "    - Preprocessing (eigenvalues, gamma)\n",
        "    - QPE encoding of eigenvalues\n",
        "    - Ancilla rotations\n",
        "    - Measures circuit fidelity using classical solution\n",
        "    \"\"\"\n",
        "\n",
        "    def __init__(self, preprocessing, eigenvalue_inversion, get_result_function):\n",
        "        self.preprocessing = preprocessing\n",
        "        self.inverter_class = eigenvalue_inversion\n",
        "        self.get_result = get_result_function\n",
        "\n",
        "    def estimate(self, problem, num_clock_qubits=4, quantum_conditional_logic=True):\n",
        "        A = problem.A_matrix\n",
        "        b = problem.b_vector\n",
        "        dim = len(b)\n",
        "        n_system = int(log2(dim))\n",
        "\n",
        "        eigvals, eigvecs, gamma = self.preprocessing(A)\n",
        "\n",
        "        # Quantum registers\n",
        "        phase = QuantumRegister(num_clock_qubits, \"phase\")\n",
        "        system = QuantumRegister(n_system, \"system\")\n",
        "        ancilla = QuantumRegister(1, \"ancilla\")\n",
        "        c_phase = ClassicalRegister(num_clock_qubits, \"c_phase\")\n",
        "        c_anc = ClassicalRegister(1, \"c_anc\")\n",
        "        qc = QuantumCircuit(phase, system, ancilla, c_phase, c_anc)\n",
        "        print\n",
        "        qc.draw()\n",
        "\n",
        "        # Prepare state |b⟩\n",
        "        qc.initialize(b, system)\n",
        "\n",
        "        # Apply Hadamards to clock (phase) register\n",
        "        qc.h(phase)\n",
        "\n",
        "        # Controlled unitary evolution U = exp(iAt)\n",
        "        U = expm(1j * 2 * np.pi * gamma * A)\n",
        "\n",
        "        for i in range(num_clock_qubits):\n",
        "            power = 2 ** i\n",
        "            U_power = np.linalg.matrix_power(U, power)\n",
        "            U_gate = UnitaryGate(U_power, label=f\"U^{power}\")\n",
        "            qc.append(U_gate.control(1), [phase[i]] + system[:])\n",
        "\n",
        "        # Inverse QFT\n",
        "        inv_qft = QFT(num_clock_qubits, inverse=True, do_swaps=True).to_gate()\n",
        "        qc.append(inv_qft, phase)\n",
        "\n",
        "\n",
        "        # Conditioned RY rotations\n",
        "        inverter = self.inverter_class()\n",
        "        conditioned_rotations = inverter.build_conditioned_rotations(\n",
        "            eigenvalues=eigvals,\n",
        "            num_phase_bits=num_clock_qubits,\n",
        "            gamma=gamma\n",
        "        )\n",
        "\n",
        "        for bitstring, ry_gate in conditioned_rotations.items():\n",
        "            value = int(bitstring, 2)\n",
        "            qc.append(ry_gate, [ancilla[0]])\n",
        "            instruction_set = qc.append(ry_gate, [ancilla[0]])\n",
        "            if quantum_conditional_logic:\n",
        "                for inst in instruction_set:\n",
        "                    inst.c_if(c_phase, value)\n",
        "                    instruction.c_if(c_phase, value)\n",
        "\n",
        "\n",
        "        # Measure ancilla\n",
        "        qc.measure(ancilla, c_anc)\n",
        "\n",
        "        # Execute simulation\n",
        "        backend = Aer.get_backend(\"aer_simulator\")\n",
        "        t_qc = transpile(qc, backend)\n",
        "        result = backend.run(t_qc, shots=1024).result()\n",
        "        counts = result.get_counts()\n",
        "\n",
        "        # Wrap results\n",
        "        class ResultObject:\n",
        "            pass\n",
        "\n",
        "        out = ResultObject()\n",
        "        out.circuit = qc\n",
        "        out.circuit_results = counts\n",
        "        out.circuit_depth = qc.depth()\n",
        "        out.ideal_x_statevector = Statevector(b)\n",
        "        out.results_processed = self.get_result(problem=problem, counts=counts)\n",
        "\n",
        "        return out\n"
      ]
    },
    {
      "cell_type": "markdown",
      "id": "153c35a2",
      "metadata": {
        "id": "153c35a2"
      },
      "source": [
        "## Generate Test Portfolio Problem\n",
        "\n",
        "## Test Problem Generation: Simulating a Realistic Portfolio Matrix\n",
        "\n",
        "We simulate a matrix `A` that mimics a **portfolio covariance matrix**:\n",
        "- It's symmetric and positive semi-definite\n",
        "- The diagonal is 1 (unit variance), and off-diagonal entries are correlation coefficients\n",
        "\n",
        "The vector `b` is a synthetic expected return profile. After normalization, it becomes our prepared quantum state |b⟩.\n",
        "\n",
        "This lets us evaluate the HHL++ pipeline end-to-end, as though we were solving a real financial system with a moderate number of variables (e.g., 8–16 assets).\n",
        "**bold text**"
      ]
    },
    {
      "cell_type": "code",
      "execution_count": null,
      "id": "8531ea33",
      "metadata": {
        "id": "8531ea33"
      },
      "outputs": [],
      "source": [
        "def generate_test_problem(sigma, dim=16):\n",
        "    \"\"\"Generates a normalized vector b and a Hermitian matrix A.\"\"\"\n",
        "    # Create a Hermitian matrix A\n",
        "    A_random = sigma\n",
        "    A = (A_random + A_random.T) / 2  # Ensure it's symmetric (Hermitian for real matrices)\n",
        "\n",
        "    # Create a random vector b and normalize it\n",
        "    b = np.random.randn(dim)\n",
        "    b = b / np.linalg.norm(b) if np.linalg.norm(b) > 1e-8 else np.ones(dim) / np.sqrt(dim)\n",
        "\n",
        "    return A, b\n"
      ]
    },
    {
      "cell_type": "markdown",
      "id": "2252b116",
      "metadata": {
        "id": "2252b116"
      },
      "source": [
        "## Run the Full HHL++ Pipeline\n",
        "\n",
        "## Full Pipeline Execution: Building and Simulating the Quantum Circuit\n",
        "\n",
        "Here, we execute the full HHL++ algorithm:\n",
        "- Initialize registers for phase estimation, system, and ancilla\n",
        "- Prepare the input quantum state |b⟩\n",
        "- Perform time evolution U = exp(iAt) via matrix exponentiation\n",
        "- Apply quantum phase estimation to extract λ values\n",
        "- Use our hybrid inversion to apply 1/λ to an ancilla qubit\n",
        "- Measure and collect results\n",
        "\n",
        "We simulate this on **Qiskit Aer**, a high-performance simulator, and collect:\n",
        "- The **quantum circuit depth** (proxy for hardware feasibility)\n",
        "- **Measurement counts**\n",
        "- **Fidelity** between quantum output and classical truth\n",
        "\n",
        "This is the most important part of the notebook: it demonstrates that our solver is working.\n"
      ]
    },
    {
      "cell_type": "code",
      "execution_count": null,
      "id": "7fbc4626",
      "metadata": {
        "colab": {
          "base_uri": "https://localhost:8080/"
        },
        "id": "7fbc4626",
        "outputId": "9aca5c7e-1198-4b5c-9008-b49e9cc99507"
      },
      "outputs": [
        {
          "output_type": "stream",
          "name": "stdout",
          "text": [
            "Eigenvalues: [-2.78912856 -0.93073608 -0.24676161  0.51845235]\n",
            "Gamma: 0.1792674629071503\n",
            "✅ Fidelity: 0.15676615746807335\n",
            "🔄 Circuit depth: 12\n",
            "📊 Measurement counts: {'0 1010': 1, '1 0000': 7, '0 1011': 6, '1 0011': 17, '0 1110': 36, '0 1111': 526, '0 0110': 5, '0 1000': 11, '0 1100': 7, '1 0001': 137, '0 0101': 3, '0 1001': 5, '0 1101': 38, '0 0000': 101, '0 0100': 10, '1 0010': 111, '0 0111': 3}\n"
          ]
        }
      ],
      "source": [
        "# 🔄 Run the Full HHL++ Pipeline\n",
        "\n",
        "# Generate A and b\n",
        "A, b = generate_test_problem(sigma)\n",
        "\n",
        "# Normalize b safely\n",
        "b_norm = np.linalg.norm(b)\n",
        "if b_norm == 0 or np.isnan(b_norm):\n",
        "    raise ValueError(\"Vector b must be non-zero and not contain NaNs.\")\n",
        "b = b / b_norm\n",
        "\n",
        "# Define problem instance\n",
        "problem = PortfolioQLSP(A_matrix=A, b_vector=b)\n",
        "\n",
        "# Preprocessor and HHL++ engine\n",
        "pre = YalovetzkyPreprocessor()\n",
        "hhl = HHL(\n",
        "    preprocessing=pre.estimate,\n",
        "    eigenvalue_inversion=EnhancedHybridInversion,\n",
        "    get_result_function=get_fidelity_result\n",
        ")\n",
        "\n",
        "\n",
        "\n",
        "# 🩹 Patch the HHL class to support conditional logic (Qiskit 2.x safe)\n",
        "from qiskit.circuit import QuantumRegister, ClassicalRegister, QuantumCircuit\n",
        "from qiskit.quantum_info import Statevector\n",
        "from qiskit.circuit.library import QFT\n",
        "from qiskit.circuit.library import UnitaryGate\n",
        "from qiskit_aer import Aer\n",
        "from qiskit import transpile\n",
        "from scipy.linalg import expm\n",
        "import numpy as np\n",
        "\n",
        "def patched_estimate(self, problem, num_clock_qubits=4, quantum_conditional_logic=True):\n",
        "    A = problem.A_matrix\n",
        "    b = problem.b_vector\n",
        "    dim = len(b)\n",
        "    n_system = int(np.log2(dim))\n",
        "\n",
        "    eigvals, eigvecs, gamma = self.preprocessing(A)\n",
        "\n",
        "    # 🔍 Debug: Print eigenvalues and gamma\n",
        "    print(\"Eigenvalues:\", eigvals)\n",
        "    print(\"Gamma:\", gamma)\n",
        "\n",
        "    phase = QuantumRegister(num_clock_qubits, \"phase\")\n",
        "    system = QuantumRegister(n_system, \"system\")\n",
        "    ancilla = QuantumRegister(1, \"ancilla\")\n",
        "    c_phase = ClassicalRegister(num_clock_qubits, \"c_phase\")\n",
        "    c_anc = ClassicalRegister(1, \"c_anc\")\n",
        "    qc = QuantumCircuit(phase, system, ancilla, c_phase, c_anc)\n",
        "\n",
        "    qc.initialize(b, system)\n",
        "    qc.h(phase)\n",
        "\n",
        "    U = expm(1j * 2 * np.pi * gamma * A)\n",
        "    for i in range(num_clock_qubits):\n",
        "        power = 2 ** i\n",
        "        U_power = np.linalg.matrix_power(U, power)\n",
        "        U_gate = UnitaryGate(U_power, label=f\"U^{power}\")\n",
        "        qc.append(U_gate.control(1), [phase[i]] + system[:])\n",
        "\n",
        "    inv_qft = QFT(num_clock_qubits, inverse=True, do_swaps=True).to_gate()\n",
        "    qc.append(inv_qft, phase)\n",
        "    qc.measure(phase, c_phase)\n",
        "\n",
        "    inverter = self.inverter_class()\n",
        "    conditioned_rotations = inverter.build_conditioned_rotations(\n",
        "        eigenvalues=eigvals,\n",
        "        num_phase_bits=num_clock_qubits,\n",
        "        gamma=gamma\n",
        "    )\n",
        "\n",
        "    for bitstring, ry_gate in conditioned_rotations.items():\n",
        "        value = int(bitstring, 2)\n",
        "        if quantum_conditional_logic:\n",
        "            with qc.if_test((c_phase, value)):\n",
        "                qc.append(ry_gate, [ancilla[0]])\n",
        "        else:\n",
        "            qc.append(ry_gate, [ancilla[0]])\n",
        "\n",
        "    qc.measure(ancilla, c_anc)\n",
        "\n",
        "    backend = Aer.get_backend(\"aer_simulator\")\n",
        "    t_qc = transpile(qc, backend)\n",
        "    result = backend.run(t_qc, shots=1024).result()\n",
        "    counts = result.get_counts()\n",
        "\n",
        "    class ResultObject:\n",
        "        pass\n",
        "\n",
        "    out = ResultObject()\n",
        "    out.circuit = qc\n",
        "    out.circuit_results = counts\n",
        "    out.circuit_depth = qc.depth()\n",
        "    out.ideal_x_statevector = Statevector(b)\n",
        "    out.results_processed = self.get_result(problem=problem, counts=counts)\n",
        "\n",
        "    return out\n",
        "\n",
        "# Apply the patch\n",
        "HHL.estimate = patched_estimate\n",
        "\n",
        "# 🚀 Run the algorithm\n",
        "result = hhl.estimate(problem=problem, num_clock_qubits=4)\n",
        "\n",
        "# 📊 Output results\n",
        "print(\"✅ Fidelity:\", result.results_processed)\n",
        "print(\"🔄 Circuit depth:\", result.circuit_depth)\n",
        "print(\"📊 Measurement counts:\", result.circuit_results)\n"
      ]
    },
    {
      "cell_type": "markdown",
      "id": "9a635fe7",
      "metadata": {
        "id": "9a635fe7"
      },
      "source": [
        "## Visualize Classical vs Quantum Amplitudes\n",
        "\n",
        "## Visualization and Benchmarking\n",
        "\n",
        "We compare the classical and quantum solution states **side by side**:\n",
        "- Classical amplitudes are computed using NumPy's `solve()`\n",
        "- Quantum amplitudes are extracted from post-selected ancilla=1 results\n",
        "\n",
        "Then, we plot performance benchmarks:\n",
        "- **Fidelity Comparison** → classical vs naive HHL vs our HHL++\n",
        "- **Circuit Depth** → how deep each circuit is (important for NISQ)\n",
        "- **Execution Time** → approximate simulation time for each method\n",
        "\n",
        "These charts and metrics help us **explore the claim** that HHL++ is:\n",
        "- More accurate\n",
        "- More efficient\n",
        "- More hardware-friendly"
      ]
    },
    {
      "cell_type": "code",
      "execution_count": null,
      "id": "02e45a7f",
      "metadata": {
        "colab": {
          "base_uri": "https://localhost:8080/",
          "height": 472
        },
        "id": "02e45a7f",
        "outputId": "b9964c49-7418-41e7-f742-c7d04049958d"
      },
      "outputs": [
        {
          "output_type": "display_data",
          "data": {
            "text/plain": [
              "<Figure size 640x480 with 1 Axes>"
            ],
            "image/png": "[encoded data removed]"
          },
          "metadata": {}
        }
      ],
      "source": [
        "import matplotlib.pyplot as plt\n",
        "import numpy as np\n",
        "def plot_filtered_amplitudes(classical_vector, quantum_counts, top_k=None):\n",
        "    classical_vector = classical_vector / np.linalg.norm(classical_vector)\n",
        "    if top_k is None:\n",
        "        top_k = len(classical_vector)\n",
        "\n",
        "    # Filter for ancilla = 1\n",
        "    filtered = {k[2:]: v for k, v in quantum_counts.items() if k.replace(\" \", \"\").startswith(\"1\")}\n",
        "\n",
        "    total = sum(filtered.values())\n",
        "    quantum_probs = np.zeros(top_k)\n",
        "\n",
        "    for bitstring, count in filtered.items():\n",
        "        idx = int(bitstring, 2)\n",
        "        if idx < top_k:\n",
        "            quantum_probs[idx] = np.sqrt(count / total)\n",
        "\n",
        "    quantum_probs /= np.linalg.norm(quantum_probs)  # Ensure unit norm\n",
        "\n",
        "    classical = np.abs(classical_vector[:top_k])\n",
        "    x = np.arange(top_k)\n",
        "    width = 0.35\n",
        "\n",
        "    plt.bar(x - width/2, classical, width, label='Classical')\n",
        "    plt.bar(x + width/2, quantum_probs, width, label='Quantum')\n",
        "    plt.xticks(x, [f\"{i:0{int(np.log2(top_k))}b}\" for i in x])\n",
        "    plt.xlabel(\"Basis state\")\n",
        "    plt.ylabel(\"Amplitude\")\n",
        "    plt.title(\"Classical vs Quantum Amplitudes (Ancilla = 1)\")\n",
        "    plt.legend()\n",
        "    plt.grid(True)\n",
        "    plt.show()\n",
        "\n",
        "# Compute classical solution\n",
        "x_classical = np.linalg.solve(A, b)\n",
        "\n",
        "# Plot amplitudes (limit to length of classical vector)\n",
        "plot_filtered_amplitudes(x_classical, result.circuit_results, top_k=len(x_classical))\n"
      ]
    },
    {
      "cell_type": "markdown",
      "id": "1e2a7a72",
      "metadata": {
        "id": "1e2a7a72"
      },
      "source": [
        "Benchmark Classical vs Quantum Performance"
      ]
    },
    {
      "cell_type": "code",
      "execution_count": null,
      "id": "8a469020",
      "metadata": {
        "colab": {
          "base_uri": "https://localhost:8080/"
        },
        "id": "8a469020",
        "outputId": "f547dd73-8a58-4adb-b854-f8d8d5bfcad7"
      },
      "outputs": [
        {
          "output_type": "stream",
          "name": "stdout",
          "text": [
            "Eigenvalues: [-2.32415362  0.34200024  0.73255325  1.78020579]\n",
            "Gamma: 0.21513207890261032\n",
            "Quantum Fidelity: 0.6994082855938136\n",
            "Quantum Circuit Depth: 12\n",
            "Quantum Runtime (sim): 1.969290018081665 sec\n",
            "Classical Runtime: 5.602836608886719e-05 sec\n"
          ]
        }
      ],
      "source": [
        "import time\n",
        "\n",
        "def benchmark_hhl_vs_classical():\n",
        "    A, b = generate_test_problem()\n",
        "    problem = PortfolioQLSP(A, b)\n",
        "    pre = YalovetzkyPreprocessor()\n",
        "    hhl = HHL(preprocessing=pre.estimate,\n",
        "              eigenvalue_inversion=EnhancedHybridInversion,\n",
        "              get_result_function=get_fidelity_result)\n",
        "\n",
        "    t1 = time.time()\n",
        "    result = hhl.estimate(problem, num_clock_qubits=4)\n",
        "    t2 = time.time()\n",
        "\n",
        "    t3 = time.time()\n",
        "    x_classical = np.linalg.solve(A, b)\n",
        "    t4 = time.time()\n",
        "\n",
        "    return {\n",
        "        \"quantum_fidelity\": result.results_processed,\n",
        "        \"quantum_depth\": result.circuit_depth,\n",
        "        \"quantum_time\": t2 - t1,\n",
        "        \"classical_time\": t4 - t3\n",
        "    }\n",
        "\n",
        "bench = benchmark_hhl_vs_classical()\n",
        "print(\"Quantum Fidelity:\", bench[\"quantum_fidelity\"])\n",
        "print(\"Quantum Circuit Depth:\", bench[\"quantum_depth\"])\n",
        "print(\"Quantum Runtime (sim):\", bench[\"quantum_time\"], \"sec\")\n",
        "print(\"Classical Runtime:\", bench[\"classical_time\"], \"sec\")\n"
      ]
    },
    {
      "cell_type": "markdown",
      "id": "5ff595ab",
      "metadata": {
        "id": "5ff595ab"
      },
      "source": [
        "## Minimal Test Suite"
      ]
    },
    {
      "cell_type": "code",
      "execution_count": null,
      "id": "9d1c53d0",
      "metadata": {
        "colab": {
          "base_uri": "https://localhost:8080/"
        },
        "id": "9d1c53d0",
        "outputId": "4bb39493-979b-41d1-ee3e-c4abba849028"
      },
      "outputs": [
        {
          "output_type": "stream",
          "name": "stdout",
          "text": [
            "✅ test_preprocessor passed\n",
            "Eigenvalues: [-1.89841378 -1.36186948  0.92066971  2.3037647 ]\n",
            "Gamma: 0.2170360543787478\n",
            "✅ test_hhl_pipeline passed\n"
          ]
        }
      ],
      "source": [
        "def test_preprocessor():\n",
        "    A, _ = generate_test_problem()\n",
        "    pre = YalovetzkyPreprocessor()\n",
        "    eigvals, eigvecs, gamma = pre.estimate(A)\n",
        "    assert len(eigvals) == A.shape[0], \"Eigenvalue dimension mismatch\"\n",
        "    assert gamma > 0, \"Gamma must be positive\"\n",
        "    print(\"✅ test_preprocessor passed\")\n",
        "\n",
        "def test_hhl_pipeline():\n",
        "    A, b = generate_test_problem()\n",
        "    problem = PortfolioQLSP(A, b)\n",
        "    pre = YalovetzkyPreprocessor()\n",
        "    hhl = HHL(preprocessing=pre.estimate,\n",
        "              eigenvalue_inversion=EnhancedHybridInversion,\n",
        "              get_result_function=get_fidelity_result)\n",
        "    result = hhl.estimate(problem, num_clock_qubits=4)\n",
        "    assert isinstance(result.results_processed, float), \"Result must be a float\"\n",
        "    print(\"✅ test_hhl_pipeline passed\")\n",
        "\n",
        "test_preprocessor()\n",
        "test_hhl_pipeline()\n"
      ]
    },
    {
      "cell_type": "markdown",
      "id": "ad1397f7",
      "metadata": {
        "id": "ad1397f7"
      },
      "source": [
        "## QAOA-style Baseline + Full Benchmark Comparison"
      ]
    },
    {
      "cell_type": "code",
      "execution_count": null,
      "id": "f784fa6a",
      "metadata": {
        "colab": {
          "base_uri": "https://localhost:8080/"
        },
        "id": "f784fa6a",
        "outputId": "2d72e173-f659-41a1-d4df-a000a0b1e5e0"
      },
      "outputs": [
        {
          "output_type": "stream",
          "name": "stdout",
          "text": [
            "Eigenvalues: [-2.66546531 -0.36099921  0.77606941  1.09070264]\n",
            "Gamma: 0.18758450862542184\n",
            "Quantum HHL++ Fidelity: 0.16541600245824536\n",
            "Quantum HHL++ Depth: 12\n",
            "Quantum HHL++ Time (sim): 0.7563\n",
            "Classical Solver Time: 0.0\n",
            "QAOA-style Time: 0.1668\n",
            "QAOA-style Fidelity vs Classical: 0.9800533853083397\n"
          ]
        }
      ],
      "source": [
        "from scipy.optimize import minimize\n",
        "\n",
        "def mock_qaoa_optimizer(A, b, trials=100):\n",
        "    # Mock QAOA: minimize quadratic form ||Ax - b||^2 with random initialization\n",
        "    def loss(x):\n",
        "        x = x / np.linalg.norm(x)\n",
        "        return np.linalg.norm(A @ x - b)\n",
        "\n",
        "    best_result = None\n",
        "    best_val = np.inf\n",
        "    for _ in range(trials):\n",
        "        x0 = np.random.rand(len(b))\n",
        "        res = minimize(loss, x0, method='Powell')\n",
        "        if res.fun < best_val:\n",
        "            best_val = res.fun\n",
        "            best_result = res.x\n",
        "    return best_result / np.linalg.norm(best_result)\n",
        "\n",
        "def benchmark_all_methods():\n",
        "    A, b = generate_test_problem()\n",
        "    problem = PortfolioQLSP(A, b)\n",
        "\n",
        "    pre = YalovetzkyPreprocessor()\n",
        "    hhl = HHL(preprocessing=pre.estimate,\n",
        "              eigenvalue_inversion=EnhancedHybridInversion,\n",
        "              get_result_function=get_fidelity_result)\n",
        "\n",
        "    # Quantum HHL++\n",
        "    t0 = time.time()\n",
        "    result_q = hhl.estimate(problem, num_clock_qubits=4)\n",
        "    t1 = time.time()\n",
        "\n",
        "    # Classical direct solve\n",
        "    t2 = time.time()\n",
        "    x_classical = np.linalg.solve(A, b)\n",
        "    t3 = time.time()\n",
        "\n",
        "    # QAOA-style solver (mock approximation)\n",
        "    t4 = time.time()\n",
        "    x_qaoa = mock_qaoa_optimizer(A, b, trials=20)\n",
        "    t5 = time.time()\n",
        "\n",
        "    # Compare fidelity\n",
        "    x_classical /= np.linalg.norm(x_classical)\n",
        "    x_qaoa /= np.linalg.norm(x_qaoa)\n",
        "\n",
        "    def simple_fid(x1, x2): return abs(np.dot(x1, x2))**2\n",
        "\n",
        "    return {\n",
        "        \"Quantum HHL Fidelity\": result_q.results_processed,\n",
        "        \"Quantum HHL Depth\": result_q.circuit_depth,\n",
        "        \"Quantum HHL Time (sim)\": round(t1 - t0, 4),\n",
        "        \"Classical Solver Time\": round(t3 - t2, 4),\n",
        "        \"QAOA-style Time\": round(t5 - t4, 4),\n",
        "        \"QAOA-style Fidelity vs Classical\": simple_fid(x_qaoa, x_classical)\n",
        "    }\n",
        "\n",
        "# Run benchmark\n",
        "benchmark_result = benchmark_all_methods()\n",
        "for k, v in benchmark_result.items():\n",
        "    print(f\"{k}: {v}\")\n"
      ]
    }
  ],
  "metadata": {
    "colab": {
      "provenance": []
    },
    "language_info": {
      "name": "python"
    },
    "kernelspec": {
      "name": "python3",
      "display_name": "Python 3"
    }
  },
  "nbformat": 4,
  "nbformat_minor": 5
}